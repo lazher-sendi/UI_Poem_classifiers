{
 "cells": [
  {
   "cell_type": "code",
   "execution_count": 1,
   "id": "7227fdae",
   "metadata": {},
   "outputs": [
    {
     "name": "stdout",
     "output_type": "stream",
     "text": [
      "Requirement already satisfied: gradio in /Users/yahyaghrab/opt/anaconda3/lib/python3.8/site-packages (3.0.9)\n",
      "Requirement already satisfied: transformers in /Users/yahyaghrab/opt/anaconda3/lib/python3.8/site-packages (4.11.3)\n",
      "Requirement already satisfied: pydub in /Users/yahyaghrab/opt/anaconda3/lib/python3.8/site-packages (from gradio) (0.25.1)\n",
      "Requirement already satisfied: pandas in /Users/yahyaghrab/opt/anaconda3/lib/python3.8/site-packages (from gradio) (1.2.4)\n",
      "Requirement already satisfied: requests in /Users/yahyaghrab/opt/anaconda3/lib/python3.8/site-packages (from gradio) (2.25.1)\n",
      "Requirement already satisfied: fastapi in /Users/yahyaghrab/opt/anaconda3/lib/python3.8/site-packages (from gradio) (0.78.0)\n",
      "Requirement already satisfied: analytics-python in /Users/yahyaghrab/opt/anaconda3/lib/python3.8/site-packages (from gradio) (1.4.0)\n",
      "Requirement already satisfied: paramiko in /Users/yahyaghrab/opt/anaconda3/lib/python3.8/site-packages (from gradio) (2.11.0)\n",
      "Requirement already satisfied: Jinja2 in /Users/yahyaghrab/opt/anaconda3/lib/python3.8/site-packages (from gradio) (2.11.3)\n",
      "Requirement already satisfied: ffmpy in /Users/yahyaghrab/opt/anaconda3/lib/python3.8/site-packages (from gradio) (0.3.0)\n",
      "Requirement already satisfied: numpy in /Users/yahyaghrab/opt/anaconda3/lib/python3.8/site-packages (from gradio) (1.19.5)\n",
      "Requirement already satisfied: aiohttp in /Users/yahyaghrab/opt/anaconda3/lib/python3.8/site-packages (from gradio) (3.7.4)\n",
      "Requirement already satisfied: matplotlib in /Users/yahyaghrab/opt/anaconda3/lib/python3.8/site-packages (from gradio) (3.3.4)\n",
      "Requirement already satisfied: pycryptodome in /Users/yahyaghrab/opt/anaconda3/lib/python3.8/site-packages (from gradio) (3.14.1)\n",
      "Requirement already satisfied: pillow in /Users/yahyaghrab/opt/anaconda3/lib/python3.8/site-packages (from gradio) (8.2.0)\n",
      "Requirement already satisfied: orjson in /Users/yahyaghrab/opt/anaconda3/lib/python3.8/site-packages (from gradio) (3.6.8)\n",
      "Requirement already satisfied: python-multipart in /Users/yahyaghrab/opt/anaconda3/lib/python3.8/site-packages (from gradio) (0.0.5)\n",
      "Requirement already satisfied: markdown-it-py[linkify,plugins] in /Users/yahyaghrab/opt/anaconda3/lib/python3.8/site-packages (from gradio) (2.1.0)\n",
      "Requirement already satisfied: uvicorn in /Users/yahyaghrab/opt/anaconda3/lib/python3.8/site-packages (from gradio) (0.16.0)\n",
      "Requirement already satisfied: packaging>=20.0 in /Users/yahyaghrab/opt/anaconda3/lib/python3.8/site-packages (from transformers) (20.9)\n",
      "Requirement already satisfied: tqdm>=4.27 in /Users/yahyaghrab/opt/anaconda3/lib/python3.8/site-packages (from transformers) (4.62.3)\n",
      "Requirement already satisfied: huggingface-hub>=0.0.17 in /Users/yahyaghrab/opt/anaconda3/lib/python3.8/site-packages (from transformers) (0.1.1)\n",
      "Requirement already satisfied: tokenizers<0.11,>=0.10.1 in /Users/yahyaghrab/opt/anaconda3/lib/python3.8/site-packages (from transformers) (0.10.3)\n",
      "Requirement already satisfied: sacremoses in /Users/yahyaghrab/opt/anaconda3/lib/python3.8/site-packages (from transformers) (0.0.46)\n",
      "Requirement already satisfied: filelock in /Users/yahyaghrab/opt/anaconda3/lib/python3.8/site-packages (from transformers) (3.0.12)\n",
      "Requirement already satisfied: pyyaml>=5.1 in /Users/yahyaghrab/opt/anaconda3/lib/python3.8/site-packages (from transformers) (5.4.1)\n",
      "Requirement already satisfied: regex!=2019.12.17 in /Users/yahyaghrab/opt/anaconda3/lib/python3.8/site-packages (from transformers) (2021.4.4)\n",
      "Requirement already satisfied: typing-extensions>=3.7.4.3 in /Users/yahyaghrab/opt/anaconda3/lib/python3.8/site-packages (from huggingface-hub>=0.0.17->transformers) (4.2.0)\n",
      "Requirement already satisfied: pyparsing>=2.0.2 in /Users/yahyaghrab/opt/anaconda3/lib/python3.8/site-packages (from packaging>=20.0->transformers) (2.4.7)\n",
      "Requirement already satisfied: multidict<7.0,>=4.5 in /Users/yahyaghrab/opt/anaconda3/lib/python3.8/site-packages (from aiohttp->gradio) (5.1.0)\n",
      "Requirement already satisfied: async-timeout<4.0,>=3.0 in /Users/yahyaghrab/opt/anaconda3/lib/python3.8/site-packages (from aiohttp->gradio) (3.0.1)\n",
      "Requirement already satisfied: attrs>=17.3.0 in /Users/yahyaghrab/opt/anaconda3/lib/python3.8/site-packages (from aiohttp->gradio) (20.3.0)\n",
      "Requirement already satisfied: yarl<2.0,>=1.0 in /Users/yahyaghrab/opt/anaconda3/lib/python3.8/site-packages (from aiohttp->gradio) (1.7.2)\n",
      "Requirement already satisfied: chardet<4.0,>=2.0 in /Users/yahyaghrab/opt/anaconda3/lib/python3.8/site-packages (from aiohttp->gradio) (3.0.4)\n",
      "Requirement already satisfied: backoff==1.10.0 in /Users/yahyaghrab/opt/anaconda3/lib/python3.8/site-packages (from analytics-python->gradio) (1.10.0)\n",
      "Requirement already satisfied: six>=1.5 in /Users/yahyaghrab/opt/anaconda3/lib/python3.8/site-packages (from analytics-python->gradio) (1.15.0)\n",
      "Requirement already satisfied: python-dateutil>2.1 in /Users/yahyaghrab/opt/anaconda3/lib/python3.8/site-packages (from analytics-python->gradio) (2.8.1)\n",
      "Requirement already satisfied: monotonic>=1.5 in /Users/yahyaghrab/opt/anaconda3/lib/python3.8/site-packages (from analytics-python->gradio) (1.6)\n",
      "Requirement already satisfied: idna<3,>=2.5 in /Users/yahyaghrab/opt/anaconda3/lib/python3.8/site-packages (from requests->gradio) (2.10)\n",
      "Requirement already satisfied: urllib3<1.27,>=1.21.1 in /Users/yahyaghrab/opt/anaconda3/lib/python3.8/site-packages (from requests->gradio) (1.26.5)\n",
      "Requirement already satisfied: certifi>=2017.4.17 in /Users/yahyaghrab/opt/anaconda3/lib/python3.8/site-packages (from requests->gradio) (2020.12.5)\n",
      "Requirement already satisfied: starlette==0.19.1 in /Users/yahyaghrab/opt/anaconda3/lib/python3.8/site-packages (from fastapi->gradio) (0.19.1)\n",
      "Requirement already satisfied: pydantic!=1.7,!=1.7.1,!=1.7.2,!=1.7.3,!=1.8,!=1.8.1,<2.0.0,>=1.6.2 in /Users/yahyaghrab/opt/anaconda3/lib/python3.8/site-packages (from fastapi->gradio) (1.8.2)\n",
      "Requirement already satisfied: anyio<5,>=3.4.0 in /Users/yahyaghrab/opt/anaconda3/lib/python3.8/site-packages (from starlette==0.19.1->fastapi->gradio) (3.4.0)\n",
      "Requirement already satisfied: MarkupSafe>=0.23 in /Users/yahyaghrab/opt/anaconda3/lib/python3.8/site-packages (from Jinja2->gradio) (1.1.1)\n",
      "Requirement already satisfied: mdurl~=0.1 in /Users/yahyaghrab/opt/anaconda3/lib/python3.8/site-packages (from markdown-it-py[linkify,plugins]->gradio) (0.1.1)\n",
      "Requirement already satisfied: linkify-it-py~=1.0 in /Users/yahyaghrab/opt/anaconda3/lib/python3.8/site-packages (from markdown-it-py[linkify,plugins]->gradio) (1.0.3)\n",
      "Requirement already satisfied: mdit-py-plugins in /Users/yahyaghrab/opt/anaconda3/lib/python3.8/site-packages (from markdown-it-py[linkify,plugins]->gradio) (0.3.0)\n",
      "Requirement already satisfied: kiwisolver>=1.0.1 in /Users/yahyaghrab/opt/anaconda3/lib/python3.8/site-packages (from matplotlib->gradio) (1.3.1)\n",
      "Requirement already satisfied: cycler>=0.10 in /Users/yahyaghrab/opt/anaconda3/lib/python3.8/site-packages (from matplotlib->gradio) (0.10.0)\n",
      "Requirement already satisfied: pytz>=2017.3 in /Users/yahyaghrab/opt/anaconda3/lib/python3.8/site-packages (from pandas->gradio) (2021.1)\n",
      "Requirement already satisfied: pynacl>=1.0.1 in /Users/yahyaghrab/opt/anaconda3/lib/python3.8/site-packages (from paramiko->gradio) (1.5.0)\n",
      "Requirement already satisfied: cryptography>=2.5 in /Users/yahyaghrab/opt/anaconda3/lib/python3.8/site-packages (from paramiko->gradio) (3.4.7)\n",
      "Requirement already satisfied: bcrypt>=3.1.3 in /Users/yahyaghrab/opt/anaconda3/lib/python3.8/site-packages (from paramiko->gradio) (3.2.2)\n",
      "Requirement already satisfied: click in /Users/yahyaghrab/opt/anaconda3/lib/python3.8/site-packages (from sacremoses->transformers) (7.1.2)\n",
      "Requirement already satisfied: joblib in /Users/yahyaghrab/opt/anaconda3/lib/python3.8/site-packages (from sacremoses->transformers) (1.0.1)\n",
      "Requirement already satisfied: h11>=0.8 in /Users/yahyaghrab/opt/anaconda3/lib/python3.8/site-packages (from uvicorn->gradio) (0.12.0)\n",
      "Requirement already satisfied: asgiref>=3.4.0 in /Users/yahyaghrab/opt/anaconda3/lib/python3.8/site-packages (from uvicorn->gradio) (3.4.1)\n",
      "Requirement already satisfied: cffi>=1.1 in /Users/yahyaghrab/opt/anaconda3/lib/python3.8/site-packages (from bcrypt>=3.1.3->paramiko->gradio) (1.14.5)\n"
     ]
    },
    {
     "name": "stdout",
     "output_type": "stream",
     "text": [
      "Requirement already satisfied: uc-micro-py in /Users/yahyaghrab/opt/anaconda3/lib/python3.8/site-packages (from linkify-it-py~=1.0->markdown-it-py[linkify,plugins]->gradio) (1.0.1)\n",
      "Requirement already satisfied: sniffio>=1.1 in /Users/yahyaghrab/opt/anaconda3/lib/python3.8/site-packages (from anyio<5,>=3.4.0->starlette==0.19.1->fastapi->gradio) (1.2.0)\n",
      "Requirement already satisfied: pycparser in /Users/yahyaghrab/opt/anaconda3/lib/python3.8/site-packages (from cffi>=1.1->bcrypt>=3.1.3->paramiko->gradio) (2.20)\n",
      "Note: you may need to restart the kernel to use updated packages.\n"
     ]
    }
   ],
   "source": [
    "pip install gradio transformers"
   ]
  },
  {
   "cell_type": "code",
   "execution_count": 20,
   "id": "810be576",
   "metadata": {},
   "outputs": [
    {
     "name": "stdout",
     "output_type": "stream",
     "text": [
      "Fetching model from: https://huggingface.co/Yah216/Arabic_poem_meter_3\n",
      "Fetching model from: https://huggingface.co/Yah216/Poem_Qafiyah_Detection\n",
      "Fetching model from: https://huggingface.co/zenkri/autotrain-Arabic_Poetry_by_Subject-920730230\n"
     ]
    }
   ],
   "source": [
    "import gradio as gr\n",
    "\n",
    "description = \"التعرف على خاصيات البيت الشعري\"\n",
    "title = \"\"\"هذا البرنامج يقوم بالتعرف على مختلف خاصيات البيت من الشعر.\n",
    "يمكنكم إختيار الخاصية من بين:\n",
    "- التعرف على البحر\n",
    "- التعرف على الروي\n",
    "التعرف على الموضوع-\"\"\"\n",
    "\n",
    "examples = [[\"سَلو قَلبي غَداةَ سَلا وَثابا لَعَلَّ عَلى الجَمالِ لَهُ عِتابا\"], [\"قفا نبك من ذِكرى حبيب ومنزلِ بسِقطِ اللِّوى بينَ الدَّخول فحَوْملِ\"]]\n",
    "\n",
    "\n",
    "meter = gr.Interface.load(\"huggingface/Yah216/Arabic_poem_meter_3\",\n",
    "                        description=\"من فضلك، أدخل البيت الشعري الذي تود التعرف عليه\",\n",
    "                        examples=examples, title = \"التعرف على البحر\",\n",
    "                          inputs = gr.inputs.Textbox(lines = 3, label = \"البيت\")\n",
    "\n",
    ")\n",
    "qafiyah = gr.Interface.load(\"huggingface/Yah216/Poem_Qafiyah_Detection\",\n",
    "                         title =\"التعرف على الروي\",\n",
    "                         examples=examples,\n",
    "                         description=\"من فضلك، أدخل البيت الشعري الذي تود التعرف عليه\",\n",
    "                         inputs = gr.inputs.Textbox(lines = 3, label = \"البيت\")\n",
    " \n",
    ")\n",
    "subject = gr.Interface.load(\n",
    "              \"huggingface/zenkri/autotrain-Arabic_Poetry_by_Subject-920730230\",\n",
    "               title=\"التعرف على الموضوع\",\n",
    "               examples=examples,\n",
    "               description=\"من فضلك، أدخل البيت الشعري الذي تود التعرف عليه\",\n",
    "                inputs = gr.inputs.Textbox(lines = 3, label = \"البيت\")\n",
    "\n",
    ")\n",
    "demo = gr.TabbedInterface([meter, qafiyah, subject], [\"التعرف على البحر\",\"التعرف على الروي\",\"التعرف على الموضوع\"])\n",
    "\n"
   ]
  },
  {
   "cell_type": "code",
   "execution_count": 21,
   "id": "241cdef8",
   "metadata": {},
   "outputs": [
    {
     "name": "stdout",
     "output_type": "stream",
     "text": [
      "Running on local URL:  http://127.0.0.1:7865/\n",
      "Running on public URL: https://36939.gradio.app\n",
      "\n",
      "This share link expires in 72 hours. For free permanent hosting, check out Spaces (https://huggingface.co/spaces)\n"
     ]
    },
    {
     "data": {
      "text/html": [
       "\n",
       "        <iframe\n",
       "            width=\"900\"\n",
       "            height=\"500\"\n",
       "            src=\"https://36939.gradio.app\"\n",
       "            frameborder=\"0\"\n",
       "            allowfullscreen\n",
       "        ></iframe>\n",
       "        "
      ],
      "text/plain": [
       "<IPython.lib.display.IFrame at 0x7f8f7fb99940>"
      ]
     },
     "metadata": {},
     "output_type": "display_data"
    },
    {
     "data": {
      "text/plain": [
       "(<gradio.routes.App at 0x7f8f7fd7ff10>,\n",
       " 'http://127.0.0.1:7865/',\n",
       " 'https://36939.gradio.app')"
      ]
     },
     "execution_count": 21,
     "metadata": {},
     "output_type": "execute_result"
    },
    {
     "name": "stderr",
     "output_type": "stream",
     "text": [
      "Traceback (most recent call last):\n",
      "  File \"/Users/yahyaghrab/opt/anaconda3/lib/python3.8/site-packages/gradio/routes.py\", line 281, in predict\n",
      "    output = await app.blocks.process_api(body, username, session_state)\n",
      "  File \"/Users/yahyaghrab/opt/anaconda3/lib/python3.8/site-packages/gradio/blocks.py\", line 356, in process_api\n",
      "    predictions = await run_in_threadpool(block_fn.fn, *processed_input)\n",
      "  File \"/Users/yahyaghrab/opt/anaconda3/lib/python3.8/site-packages/starlette/concurrency.py\", line 41, in run_in_threadpool\n",
      "    return await anyio.to_thread.run_sync(func, *args)\n",
      "  File \"/Users/yahyaghrab/opt/anaconda3/lib/python3.8/site-packages/anyio/to_thread.py\", line 28, in run_sync\n",
      "    return await get_asynclib().run_sync_in_worker_thread(func, *args, cancellable=cancellable,\n",
      "  File \"/Users/yahyaghrab/opt/anaconda3/lib/python3.8/site-packages/anyio/_backends/_asyncio.py\", line 818, in run_sync_in_worker_thread\n",
      "    return await future\n",
      "  File \"/Users/yahyaghrab/opt/anaconda3/lib/python3.8/site-packages/anyio/_backends/_asyncio.py\", line 754, in run\n",
      "    result = context.run(func, *args)\n",
      "  File \"/Users/yahyaghrab/opt/anaconda3/lib/python3.8/site-packages/gradio/interface.py\", line 491, in <lambda>\n",
      "    lambda *args: self.run_prediction(args)[0]\n",
      "  File \"/Users/yahyaghrab/opt/anaconda3/lib/python3.8/site-packages/gradio/interface.py\", line 673, in run_prediction\n",
      "    prediction = predict_fn(*processed_input)\n",
      "  File \"/Users/yahyaghrab/opt/anaconda3/lib/python3.8/site-packages/gradio/external.py\", line 261, in query_huggingface_api\n",
      "    raise ValueError(\n",
      "ValueError: Could not complete request to HuggingFace API, Error 429\n"
     ]
    }
   ],
   "source": [
    "demo.launch(share=True)"
   ]
  }
 ],
 "metadata": {
  "kernelspec": {
   "display_name": "Python 3",
   "language": "python",
   "name": "python3"
  },
  "language_info": {
   "codemirror_mode": {
    "name": "ipython",
    "version": 3
   },
   "file_extension": ".py",
   "mimetype": "text/x-python",
   "name": "python",
   "nbconvert_exporter": "python",
   "pygments_lexer": "ipython3",
   "version": "3.8.8"
  }
 },
 "nbformat": 4,
 "nbformat_minor": 5
}
